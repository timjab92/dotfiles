{
 "cells": [
  {
   "cell_type": "markdown",
   "id": "276bdf16",
   "metadata": {},
   "source": [
    "# Notebook: Ideas and Tries\n",
    "This is a notebook with ideas about future programs."
   ]
  },
  {
   "cell_type": "markdown",
   "id": "91761f00",
   "metadata": {},
   "source": [
    "## Idea1"
   ]
  },
  {
   "cell_type": "code",
   "execution_count": 3,
   "id": "59c7be59",
   "metadata": {},
   "outputs": [
    {
     "data": {
      "text/plain": [
       "'You have lost 700 USD'"
      ]
     },
     "execution_count": 3,
     "metadata": {},
     "output_type": "execute_result"
    }
   ],
   "source": [
    "def gains(init, current):\n",
    "    # init is the initial investment\n",
    "    # current is current value of all investments\n",
    "    gain = current - init\n",
    "    gain_perc = current/init\n",
    "    if gain > 0:\n",
    "        return f\"You have made {gain} USD\"\n",
    "    else:\n",
    "        return f\"You have lost {abs(gain)} USD\"\n",
    "    \n",
    "gains(2700, 2000)    "
   ]
  },
  {
   "cell_type": "markdown",
   "id": "730c7990",
   "metadata": {},
   "source": [
    "## Purchase History"
   ]
  },
  {
   "cell_type": "code",
   "execution_count": 4,
   "id": "42a81fbe",
   "metadata": {},
   "outputs": [
    {
     "ename": "SyntaxError",
     "evalue": "invalid syntax (<ipython-input-4-a0c9693e874d>, line 1)",
     "output_type": "error",
     "traceback": [
      "\u001b[0;36m  File \u001b[0;32m\"<ipython-input-4-a0c9693e874d>\"\u001b[0;36m, line \u001b[0;32m1\u001b[0m\n\u001b[0;31m    python setup.py install --user\u001b[0m\n\u001b[0m           ^\u001b[0m\n\u001b[0;31mSyntaxError\u001b[0m\u001b[0;31m:\u001b[0m invalid syntax\n"
     ]
    }
   ],
   "source": [
    "python setup.py install --user\n",
    "pip install --user currencyconverter"
   ]
  },
  {
   "cell_type": "code",
   "execution_count": null,
   "id": "ba6b65b7",
   "metadata": {},
   "outputs": [],
   "source": [
    "init = [1000 , 750, ]"
   ]
  }
 ],
 "metadata": {
  "kernelspec": {
   "display_name": "Python 3",
   "language": "python",
   "name": "python3"
  },
  "language_info": {
   "codemirror_mode": {
    "name": "ipython",
    "version": 3
   },
   "file_extension": ".py",
   "mimetype": "text/x-python",
   "name": "python",
   "nbconvert_exporter": "python",
   "pygments_lexer": "ipython3",
   "version": "3.8.6"
  },
  "toc": {
   "base_numbering": 1,
   "nav_menu": {},
   "number_sections": true,
   "sideBar": true,
   "skip_h1_title": false,
   "title_cell": "Table of Contents",
   "title_sidebar": "Contents",
   "toc_cell": false,
   "toc_position": {},
   "toc_section_display": true,
   "toc_window_display": false
  }
 },
 "nbformat": 4,
 "nbformat_minor": 5
}
