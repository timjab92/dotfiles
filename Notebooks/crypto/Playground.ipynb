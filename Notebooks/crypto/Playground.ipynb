{
 "cells": [
  {
   "cell_type": "markdown",
   "id": "6382b044",
   "metadata": {},
   "source": [
    "# Notebook: Ideas and Tries\n",
    "This is a notebook with ideas about future programs."
   ]
  },
  {
   "cell_type": "markdown",
   "id": "a768f1e3",
   "metadata": {},
   "source": [
    "## Idea1"
   ]
  },
  {
   "cell_type": "code",
   "execution_count": 3,
   "id": "e9ba5a8b",
   "metadata": {},
   "outputs": [
    {
     "data": {
      "text/plain": [
       "'You have lost 700 USD'"
      ]
     },
     "execution_count": 3,
     "metadata": {},
     "output_type": "execute_result"
    }
   ],
   "source": [
    "def gains(init, current):\n",
    "    # init is the initial investment\n",
    "    # current is current value of all investments\n",
    "    gain = current - init\n",
    "    gain_perc = current/init\n",
    "    if gain > 0:\n",
    "        return f\"You have made {gain} USD\"\n",
    "    else:\n",
    "        return f\"You have lost {abs(gain)} USD\"\n",
    "    \n",
    "gains(2700, 2000)    "
   ]
  },
  {
   "cell_type": "markdown",
   "id": "a6c28c2e",
   "metadata": {},
   "source": [
    "## Purchase History"
   ]
  },
  {
   "cell_type": "code",
   "execution_count": 1,
   "id": "aa9a2d80",
   "metadata": {},
   "outputs": [
    {
     "name": "stdout",
     "output_type": "stream",
     "text": [
      "Collecting currencyconverter\n",
      "  Downloading CurrencyConverter-0.16.2-py2.py3-none-any.whl (524 kB)\n",
      "\u001b[K     |████████████████████████████████| 524 kB 957 kB/s eta 0:00:01\n",
      "\u001b[?25hInstalling collected packages: currencyconverter\n",
      "Successfully installed currencyconverter-0.16.2\n",
      "Note: you may need to restart the kernel to use updated packages.\n"
     ]
    }
   ],
   "source": [
    "pip install currencyconverter"
   ]
  },
  {
   "cell_type": "code",
   "execution_count": 5,
   "id": "781ab0d7",
   "metadata": {},
   "outputs": [
    {
     "data": {
      "text/plain": [
       "121.24999999999999"
      ]
     },
     "execution_count": 5,
     "metadata": {},
     "output_type": "execute_result"
    }
   ],
   "source": [
    "from currency_converter import CurrencyConverter\n",
    "c = CurrencyConverter()\n",
    "c.convert(100, 'EUR', 'USD') # doctest: +SKIP"
   ]
  },
  {
   "cell_type": "code",
   "execution_count": 9,
   "id": "1ea9f982",
   "metadata": {},
   "outputs": [
    {
     "data": {
      "text/plain": [
       "[1000, 750, 536]"
      ]
     },
     "execution_count": 9,
     "metadata": {},
     "output_type": "execute_result"
    }
   ],
   "source": [
    "init = [1000 , 750, int(c.convert(650, 'USD', 'EUR'))]\n",
    "init"
   ]
  },
  {
   "cell_type": "code",
   "execution_count": null,
   "id": "2c477919",
   "metadata": {},
   "outputs": [],
   "source": []
  }
 ],
 "metadata": {
  "kernelspec": {
   "display_name": "Python 3",
   "language": "python",
   "name": "python3"
  },
  "language_info": {
   "codemirror_mode": {
    "name": "ipython",
    "version": 3
   },
   "file_extension": ".py",
   "mimetype": "text/x-python",
   "name": "python",
   "nbconvert_exporter": "python",
   "pygments_lexer": "ipython3",
   "version": "3.8.6"
  },
  "toc": {
   "base_numbering": 1,
   "nav_menu": {},
   "number_sections": true,
   "sideBar": true,
   "skip_h1_title": false,
   "title_cell": "Table of Contents",
   "title_sidebar": "Contents",
   "toc_cell": false,
   "toc_position": {},
   "toc_section_display": true,
   "toc_window_display": false
  }
 },
 "nbformat": 4,
 "nbformat_minor": 5
}
