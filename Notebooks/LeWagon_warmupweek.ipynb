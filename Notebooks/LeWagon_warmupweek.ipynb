{
 "cells": [
  {
   "cell_type": "markdown",
   "id": "1b95c312",
   "metadata": {},
   "source": [
    "# duplicate_encoder"
   ]
  },
  {
   "cell_type": "code",
   "execution_count": 36,
   "id": "0710a022",
   "metadata": {},
   "outputs": [
    {
     "name": "stdout",
     "output_type": "stream",
     "text": [
      "['s', 'u', 'c', 'c', 'e', 's', 's']\n",
      "[3, 1, 2, 2, 1, 3, 3]\n",
      "{'s': 3, 'u': 1, 'c': 2, 'e': 1}\n",
      "[')', '(', ')', ')', '(', ')', ')']\n",
      ")())())\n"
     ]
    }
   ],
   "source": [
    "#( if char = 1\n",
    "#) if char > 1\n",
    "\n",
    "def duplicate_encode(word):\n",
    "    word = word.lower()\n",
    "    letters = [c for c in word]\n",
    "    counters = [word.count(c) for c in word]\n",
    "    dic = {key: value for key, value in zip(letters, counters)}\n",
    "    \n",
    "    new = []\n",
    "    for i in word:\n",
    "        if dic[i] > 1:\n",
    "            new.append(\")\")\n",
    "        else:\n",
    "            new.append(\"(\")\n",
    "\n",
    "    return \"\".join(new)\n",
    "\n",
    "\n",
    "\n",
    "\n",
    "print(duplicate_encode(\"Success\"))"
   ]
  },
  {
   "cell_type": "markdown",
   "id": "43d8b8b7",
   "metadata": {},
   "source": [
    "# find_it"
   ]
  },
  {
   "cell_type": "code",
   "execution_count": 47,
   "id": "71629032",
   "metadata": {},
   "outputs": [
    {
     "name": "stdout",
     "output_type": "stream",
     "text": [
      "{1: 2, 2: 2, 3: 2, 4: 2}\n",
      "no odd integer found\n"
     ]
    }
   ],
   "source": [
    "def find_it(seq):\n",
    "    counters = [seq.count(n) for n in seq]\n",
    "    dic = {key: value for key, value in zip(seq, counters)}\n",
    "    \n",
    "    print(dic)\n",
    "    \n",
    "    \n",
    "    for i in seq:\n",
    "        if dic[i] % 2 != 0:\n",
    "            return i\n",
    "\n",
    "    return \"no odd integer found\"\n",
    "\n",
    "print(find_it([1,1,2,2,3,3,4,4]))"
   ]
  },
  {
   "cell_type": "markdown",
   "id": "da82f795",
   "metadata": {},
   "source": [
    "# grabscrab"
   ]
  },
  {
   "cell_type": "code",
   "execution_count": 60,
   "id": "b69287f9",
   "metadata": {},
   "outputs": [
    {
     "data": {
      "text/plain": [
       "['sport', 'ports']"
      ]
     },
     "execution_count": 60,
     "metadata": {},
     "output_type": "execute_result"
    }
   ],
   "source": [
    "def grabscrab(word, possible_words):\n",
    "    letters_in_word = [i for i in word]\n",
    "    letters_in_word.sort()\n",
    "    word_guess = []\n",
    "    #print(letters_in_word)\n",
    "    for w in possible_words:\n",
    "        letters_in_possible_word = [i for i in w]\n",
    "        letters_in_possible_word.sort()\n",
    "        if letters_in_word == letters_in_possible_word:\n",
    "            word_guess.append(w)\n",
    "            \n",
    "    #print(word_guess)\n",
    "        \n",
    "    \n",
    "    # your code here\n",
    "    return word_guess\n",
    "\n",
    "\n",
    "grabscrab( \"ortsp\", [\"sport\", \"parrot\", \"ports\", \"matey\"])"
   ]
  },
  {
   "cell_type": "markdown",
   "id": "3865f2f9",
   "metadata": {},
   "source": [
    "# poor calories counter"
   ]
  },
  {
   "cell_type": "code",
   "execution_count": 10,
   "id": "b5627423",
   "metadata": {},
   "outputs": [
    {
     "data": {
      "text/plain": [
       "730"
      ]
     },
     "execution_count": 10,
     "metadata": {},
     "output_type": "execute_result"
    }
   ],
   "source": [
    "MCDONALDS_MENU = {\n",
    "    \"Hamburger\" : 250,\n",
    "    \"Cheese Burger\" : 300,\n",
    "    \"Big Mac\" : 540,\n",
    "    \"McChicken\" : 350,\n",
    "    \"French Fries\" : 230,\n",
    "    \"Salad\" : 15,\n",
    "    \"Coca Cola\" : 150,\n",
    "    \"Sprite\" : 150\n",
    "}\n",
    "\n",
    "def poor_calories_counter(*order):\n",
    "    #lst = [i for i in order]\n",
    "    calories = []\n",
    "    for i in order:\n",
    "        if i not in MCDONALDS_MENU:\n",
    "            return f\"{i} not found\"\n",
    "        else:        \n",
    "            calories.append(MCDONALDS_MENU[i])\n",
    "        \n",
    "        \n",
    "    return sum(calories)\n",
    "\n",
    "poor_calories_counter(\"McChicken\", \"French Fries\", \"Sprite\")\n",
    "#=> 730\n",
    "    "
   ]
  },
  {
   "cell_type": "markdown",
   "id": "80ea95a7",
   "metadata": {},
   "source": [
    "# advanced calories counter"
   ]
  },
  {
   "cell_type": "code",
   "execution_count": 66,
   "id": "47b85de9",
   "metadata": {},
   "outputs": [
    {
     "data": {
      "text/plain": [
       "'Steak not found'"
      ]
     },
     "execution_count": 66,
     "metadata": {},
     "output_type": "execute_result"
    }
   ],
   "source": [
    "MCDONALDS_MENU = {\n",
    "    \"Hamburger\" : 250,\n",
    "    \"Cheese Burger\" : 300,\n",
    "    \"Big Mac\" : 540,\n",
    "    \"McChicken\" : 350,\n",
    "    \"French Fries\" : 230,\n",
    "    \"Salad\" : 15,\n",
    "    \"Coca Cola\" : 150,\n",
    "    \"Sprite\" : 150\n",
    "}\n",
    "\n",
    "MEALS = {\n",
    "    \"Happy Meal\": {\"Cheese Burger\", \"French Fries\", \"Coca Cola\"},\n",
    "    \"Best Of Big Mac\": {\"Big Mac\", \"French Fries\", \"Coca Cola\"},\n",
    "    \"Best Of McChicken\": {\"McChicken\", \"Salad\", \"Sprite\"}\n",
    "}\n",
    "\n",
    "\n",
    "def advanced_calories_counter(order):\n",
    "    calories = []\n",
    "    for item in order:\n",
    "        if item in MCDONALDS_MENU:\n",
    "            calories.append(MCDONALDS_MENU[item])\n",
    "        elif item in MEALS:\n",
    "            for x in MEALS[item]:\n",
    "                calories.append(MCDONALDS_MENU[x])\n",
    "        else:\n",
    "            return f\"{item} not found\"\n",
    "        \n",
    "    return sum(calories)\n",
    "\n",
    "#advanced_calories_counter(\"McChicken\", \"French Fries\", \"Sprite\", \"Happy Meal\")\n",
    "#=> 730\n",
    "\n",
    "\n",
    "orders = [\"French Fries\", \"Happy Meal\", \"Sprite\", \"Best Of McChicken\",\"Happy Meal\",\"Steak\"]\n",
    "advanced_calories_counter(orders)"
   ]
  },
  {
   "cell_type": "markdown",
   "id": "40d2186b",
   "metadata": {},
   "source": [
    "# roman numerals"
   ]
  },
  {
   "cell_type": "code",
   "execution_count": 114,
   "id": "0e182f62",
   "metadata": {},
   "outputs": [
    {
     "name": "stdout",
     "output_type": "stream",
     "text": [
      "iteration 0 < len(CCCXL) = 5\n",
      "next part to check is: CC\n",
      "not in dict ==> the correct letter is C ==> num+= 100\n",
      "\n",
      "iteration 1 < len(CCCXL) = 5\n",
      "next part to check is: CC\n",
      "not in dict ==> the correct letter is C ==> num+= 100\n",
      "\n",
      "iteration 2 < len(CCCXL) = 5\n",
      "next part to check is: CX\n",
      "not in dict ==> the correct letter is C ==> num+= 100\n",
      "\n",
      "iteration 3 < len(CCCXL) = 5\n",
      "next part to check is: XL\n",
      "XL in dic ==> num += 40\n",
      "\n"
     ]
    },
    {
     "data": {
      "text/plain": [
       "340"
      ]
     },
     "execution_count": 114,
     "metadata": {},
     "output_type": "execute_result"
    }
   ],
   "source": [
    "def roman_to_int(ro_num):\n",
    "    dic = {\n",
    "        \"I\" : 1,\n",
    "        \"IV\": 4,\n",
    "        \"V\" : 5,\n",
    "        \"IX\": 9,\n",
    "        \"X\" : 10,\n",
    "        \"XL\": 40,\n",
    "        \"L\" : 50,\n",
    "        \"XC\": 90,\n",
    "        \"C\" : 100,\n",
    "        \"CD\": 400,\n",
    "        \"D\" : 500,\n",
    "        \"CM\": 900,\n",
    "        \"M\" : 1000\n",
    "    }\n",
    "    \n",
    "    i = 0                      #variable for number of iterations\n",
    "    num = 0\n",
    "    while i < len(ro_num):\n",
    "        print(f\"iteration {i} < len({ro_num}) = {len(ro_num)}\")\n",
    "        #check if the number might be two digit\n",
    "        print(f\"next part to check is: {ro_num[i:i+2]}\")\n",
    "        if i+1 < len(ro_num) and ro_num[i:i+2] in dic:\n",
    "            print(f\"{ro_num[i:i+2]} in dic ==> num += {dic[ro_num[i:i+2]]}\")\n",
    "            num += dic[ro_num[i:i+2]]\n",
    "            i+=2\n",
    "        #single digit number    \n",
    "        else:\n",
    "            num+=dic[ro_num[i]]\n",
    "            print(f\"not in dict ==> the correct letter is {ro_num[i:i+1]} ==> num+= {dic[ro_num[i]]}\")\n",
    "            i+=1\n",
    "        print(\"\")\n",
    "            \n",
    "    return num\n",
    "\n",
    "    \n",
    "    \n",
    "roman_to_int(\"CCCXL\")    "
   ]
  },
  {
   "cell_type": "markdown",
   "id": "d17f5637",
   "metadata": {},
   "source": [
    "# Classes"
   ]
  },
  {
   "cell_type": "code",
   "execution_count": 14,
   "id": "69d523e8",
   "metadata": {},
   "outputs": [
    {
     "name": "stdout",
     "output_type": "stream",
     "text": [
      "Peters age is 44\n"
     ]
    }
   ],
   "source": [
    "class Person:\n",
    "    def __init__(self, name, age):\n",
    "        self.name = name\n",
    "        self.age = age\n",
    "        \n",
    "    def info(self):\n",
    "        return f\"{self.name}s age is {self.age}\"\n",
    "        \n",
    "        \n",
    "p1 = Person(\"Peter\", 44)\n",
    "print(p1.info())"
   ]
  },
  {
   "cell_type": "code",
   "execution_count": 32,
   "id": "981f8bea",
   "metadata": {},
   "outputs": [
    {
     "data": {
      "text/plain": [
       "'regular'"
      ]
     },
     "execution_count": 32,
     "metadata": {},
     "output_type": "execute_result"
    }
   ],
   "source": [
    "class Ball(object):\n",
    "    def __init__(self, ball_type='regular'):\n",
    "        self.ball_type = ball_type\n",
    "        \n",
    "        \n",
    "b1 = Ball(\"super\")\n",
    "b1.ball_type\n",
    "\n",
    "b2 = Ball()\n",
    "b2.ball_type"
   ]
  },
  {
   "cell_type": "code",
   "execution_count": 40,
   "id": "a16a7137",
   "metadata": {},
   "outputs": [
    {
     "data": {
      "text/plain": [
       "False"
      ]
     },
     "execution_count": 40,
     "metadata": {},
     "output_type": "execute_result"
    }
   ],
   "source": [
    "class Ship:\n",
    "    def __init__(self, draft, crew):\n",
    "        self.draft = draft\n",
    "        self.crew = crew\n",
    "    def is_worth_it(self):\n",
    "        return self.draft - self.crew*1.5 > 20\n",
    "        \n",
    "    \n",
    "titanic = Ship(15,10)\n",
    "titanic.is_worth_it()"
   ]
  },
  {
   "cell_type": "code",
   "execution_count": 52,
   "id": "43d6d780",
   "metadata": {},
   "outputs": [
    {
     "data": {
      "text/plain": [
       "True"
      ]
     },
     "execution_count": 52,
     "metadata": {},
     "output_type": "execute_result"
    }
   ],
   "source": [
    "class Sleigh(object):    \n",
    "    def authenticate(self, name, password):\n",
    "        return name == \"Santa Claus\" and password == \"Ho Ho Ho!\"\n",
    "        \n",
    "        \n",
    "        \n",
    "sleigh = Sleigh()        \n",
    "sleigh.authenticate(\"Santa Claus\", \"Ho Ho Ho!\")"
   ]
  },
  {
   "cell_type": "code",
   "execution_count": 105,
   "id": "490d1903",
   "metadata": {},
   "outputs": [
    {
     "name": "stdout",
     "output_type": "stream",
     "text": [
      "70\n",
      "Jeff has 1.\n",
      "Jeff has 26.\n",
      "\n",
      "Jeff has 36 and Joe has 60.\n",
      "Joe has 96 and Jeff has 0.\n",
      "Jeff has 500.\n"
     ]
    }
   ],
   "source": [
    "# class User(object):\n",
    "#     def __init__(self, name, balance, checking_account):\n",
    "#         self.name = name\n",
    "#         self.balance = balance\n",
    "#         self.checking_account = checking_account\n",
    "        \n",
    "#     def withdraw(self, amount):\n",
    "        \n",
    "#         if amount > self.balance:\n",
    "#             raise ValueError(\"Your funds are not sufficient.\")\n",
    "#         else:\n",
    "#             self.balance = self.balance - amount\n",
    "        \n",
    "#         return f\"{self.name} has {self.balance}.\"\n",
    "    \n",
    "#     def check(self, other_user, amount):\n",
    "#         if other_user.balance < amount:\n",
    "#             raise ValueError(\"Other user's funds are not sufficient.\")\n",
    "#         elif other_user.checking_account == False:\n",
    "#             raise ValueError(\"Other user's account not valid.\")\n",
    "#         else:\n",
    "#             self.balance = self.balance + amount\n",
    "#             other_user.balance = other_user.balance - amount\n",
    "        \n",
    "#         return f\"{self.name} has {self.balance} and {other_user.name} has {other_user.balance}.\"\n",
    "        \n",
    "        \n",
    "        \n",
    "#     def add_cash(self, amount):\n",
    "#         self.balance = self.balance + amount\n",
    "#         return f\"{self.name} has {self.balance}.\"\n",
    "        \n",
    "        \n",
    "        \n",
    "#     #Happy coding\n",
    "    \n",
    "    \n",
    "# jeff = User(\"Jeff\", 70, True)\n",
    "# joe = User(\"Joe\", 70, True)\n",
    "# print(jeff.balance)\n",
    "# print(jeff.withdraw(69))\n",
    "# print(jeff.add_cash(25))\n",
    "# print(\"\")\n",
    "# print(jeff.check(joe, 10))\n",
    "# print(joe.check(jeff,36))\n",
    "# print(jeff.add_cash(500))"
   ]
  },
  {
   "cell_type": "code",
   "execution_count": 17,
   "id": "97cc9942",
   "metadata": {},
   "outputs": [
    {
     "name": "stdout",
     "output_type": "stream",
     "text": [
      "19\n",
      "(127, 159, 127)\n"
     ]
    }
   ],
   "source": [
    "import math\n",
    "\n",
    "class Potion:\n",
    "    def __init__(self, color, volume):\n",
    "        self.color = color\n",
    "        self.volume = volume\n",
    "    \n",
    "    def mix(self, other):\n",
    "        new_volume = self.volume + other.volume\n",
    "        new_color = map(lambda x,y: math.ceil(x*(self.volume/new_volume) + y*(other.volume/new_volume)), self.color, other.color)\n",
    "        new_color = tuple(new_color)\n",
    "    \n",
    "    \n",
    "        return Potion(new_color, new_volume)\n",
    "\n",
    "    \n",
    "    \n",
    "felix_felicis       =  Potion([255, 255, 255],  7)\n",
    "shrinking_solution  =  Potion([ 51, 102,  51], 12)\n",
    "new_potion          =  felix_felicis.mix(shrinking_solution)\n",
    "\n",
    "print(new_potion.volume)\n",
    "print(new_potion.color)\n",
    "\n",
    "# new_potion.color   ==  [127, 159, 127]\n",
    "# new_potion.volume  ==  19"
   ]
  },
  {
   "cell_type": "markdown",
   "id": "92e2b4b1",
   "metadata": {},
   "source": [
    "# Orange tree"
   ]
  },
  {
   "cell_type": "code",
   "execution_count": 123,
   "id": "08d09b31",
   "metadata": {},
   "outputs": [],
   "source": [
    "import random\n",
    "\n",
    "class OrangeTree:\n",
    "    def __init__(self):\n",
    "        self.age = 0\n",
    "        self.height = 0\n",
    "        self.fruits = 0\n",
    "        self.dead = False\n",
    "        \n",
    "    def one_year_passes(self):\n",
    "        print(\"\")\n",
    "        print(\"One year has passed...\")\n",
    "        #drop oranges\n",
    "        self.fruits = 0\n",
    "        \n",
    "        #increase age by one year\n",
    "        self.age += 1\n",
    "        print(f\"Your tree is now {self.age} years old.\")\n",
    "        \n",
    "        #check if dead\n",
    "        if self.dead == False:\n",
    "            # tree grows\n",
    "            if self.age <= 10:\n",
    "                self.height += 1    \n",
    "                print(\"Your tree grew 1m this year\")\n",
    "                \n",
    "            #produce fruit\n",
    "            if self.age <= 5:\n",
    "                print(\"Sorry, no fruits yet.\")\n",
    "            elif 5 < self.age < 10:\n",
    "                self.fruits += 100\n",
    "                print(\"Your tree grew 100 oranges\")\n",
    "            elif 10 <= self.age < 15:\n",
    "#                elif 10 <= self.age < 15:\n",
    "                self.fruits += 200\n",
    "                print(\"Your tree grew 200 oranges\")\n",
    "       \n",
    "            #check of tree will die\n",
    "        \n",
    "            elif self.age <= 50:\n",
    "                print(\"Your tree is still young and healthy.\")\n",
    "            elif 100 > self.age > 50:\n",
    "                chance_to_die = random.randint(1, 100)\n",
    "                if self.age > chance_to_die:\n",
    "                    self.dead = True\n",
    "                    print(\"Your tree has reached its end\")\n",
    "                else:\n",
    "                    print(\"Your tree continues to bloom for another year\")\n",
    "            else:\n",
    "                self.dead = True\n",
    "                (print(\"100 Years! Thats a good age for an orange tree.\"))\n",
    " \n",
    "        \n",
    "    def pick_a_fruit(self):\n",
    "        if self.fruits != 0:\n",
    "            self.fruits -= 1\n",
    "            print(f\"You have picked one orange. There are {self.fruits} oranges left of the tree\")\n",
    "        else:\n",
    "            print(\"There are no fruits to pick\")"
   ]
  },
  {
   "cell_type": "markdown",
   "id": "efca745e",
   "metadata": {},
   "source": [
    "# Self"
   ]
  },
  {
   "cell_type": "code",
   "execution_count": 132,
   "id": "3cdf698b",
   "metadata": {},
   "outputs": [],
   "source": [
    "class Cat:\n",
    "    def __init__(self):\n",
    "        self.age = 1\n",
    "        self.color = 'brown'\n",
    "        self.weight = 5\n",
    "\n",
    "    def age_10_years(self):\n",
    "        self.age = 10\n",
    "        return self\n",
    "\n",
    "    def gain_weight(self):\n",
    "        self.weight = 20\n",
    "        return self\n",
    "\n",
    "    def turn_grey(self):\n",
    "        self.color = 'grey'\n",
    "        return self"
   ]
  },
  {
   "cell_type": "code",
   "execution_count": 133,
   "id": "1d500ddc",
   "metadata": {},
   "outputs": [
    {
     "name": "stdout",
     "output_type": "stream",
     "text": [
      "My 1 year old cat weighs 5 pounds and is brown.  Come back in a few years and see how he is doing.\n",
      "--------------------10 years later----------------------\n",
      "My 10 year old cat now weighs 20 pounds and is grey\n"
     ]
    }
   ],
   "source": [
    "cat = Cat()\n",
    "print(f\"My {cat.age} year old cat weighs {cat.weight} pounds and is {cat.color}.  Come back in a few years and see how he is doing.\")\n",
    "\n",
    "\n",
    "cat.age_10_years().gain_weight().turn_grey()\n",
    "print(\"--------------------10 years later----------------------\")\n",
    "print(f\"My {cat.age} year old cat now weighs {cat.weight} pounds and is {cat.color}\")\n"
   ]
  },
  {
   "cell_type": "markdown",
   "id": "fb131683",
   "metadata": {},
   "source": [
    "# richest student"
   ]
  },
  {
   "cell_type": "code",
   "execution_count": 204,
   "id": "3f60b246",
   "metadata": {},
   "outputs": [],
   "source": [
    "class Student:\n",
    "    def __init__(self,name,fives,tens,twenties):\n",
    "        self.name = name\n",
    "        self.fives = fives\n",
    "        self.tens = tens\n",
    "        self.twenties = twenties\n",
    "    \n",
    "    def wealth(self):\n",
    "        total = self.fives*5 + self.tens*10 + self.twenties*20\n",
    "        self.total = total\n",
    "        return self.total\n",
    "    \n",
    "    def compare(self, other):\n",
    "        if self.total > other.total:\n",
    "            return self.name\n",
    "        elif self.total == other.total:\n",
    "            return \"Equally wealthy\"\n",
    "        else:\n",
    "            return other.name\n",
    "        \n",
    "    def advanced_compare(self, stud_list):\n",
    "        stud_list.append(self)\n",
    "        stud_dict = {}\n",
    "        for stud in stud_list:\n",
    "            stud_dict[stud.name]=stud.wealth()\n",
    "            \n",
    "        #sorting the dict\n",
    "\n",
    "        sorted_dict = sorted(stud_dict.items(), key=lambda item:item[1], reverse=True)\n",
    "        #unpacking and list\n",
    "        unpacked_list = list({k: v for k,v in sorted_dict})        \n",
    "        \n",
    "        return unpacked_list\n",
    "        \n",
    "            \n",
    "        \n",
    "        "
   ]
  },
  {
   "cell_type": "code",
   "execution_count": 205,
   "id": "3999993e",
   "metadata": {},
   "outputs": [
    {
     "name": "stdout",
     "output_type": "stream",
     "text": [
      "755\n",
      "750\n",
      "\n",
      "John\n",
      "['Ivy', 'John', 'Peter', 'Lara', 'Alex']\n"
     ]
    }
   ],
   "source": [
    "stud1 = Student(\"John\", 11, 10, 30)\n",
    "print(stud1.wealth())\n",
    "stud2 = Student(\"Peter\",10,10,30)\n",
    "print(stud2.wealth())\n",
    "print(\"\")\n",
    "print(stud1.compare(stud2))\n",
    "\n",
    "\n",
    "stud3 = Student(\"Lara\",5,12,21)\n",
    "stud4 = Student(\"Ivy\",68,9,19)\n",
    "stud5 = Student(\"Alex\",1,0,0)\n",
    "\n",
    "print(stud1.advanced_compare([stud2,stud3,stud4,stud5]))"
   ]
  },
  {
   "cell_type": "markdown",
   "id": "b0d19f44",
   "metadata": {},
   "source": [
    "# advanced classes"
   ]
  },
  {
   "cell_type": "markdown",
   "id": "2ef0ff9f",
   "metadata": {},
   "source": [
    "## digital root"
   ]
  },
  {
   "cell_type": "code",
   "execution_count": 215,
   "id": "1ba87152",
   "metadata": {},
   "outputs": [
    {
     "name": "stdout",
     "output_type": "stream",
     "text": [
      "6\n"
     ]
    }
   ],
   "source": [
    "def digital_root(n):\n",
    "    n_lst = sum([int(i) for i in str(n)])\n",
    "    if len(str(n_lst)) == 1:\n",
    "        return n_lst\n",
    "    else:\n",
    "        return digital_root(n_lst)\n",
    "\n",
    "print(digital_root(132189))"
   ]
  },
  {
   "cell_type": "markdown",
   "id": "a6a26b01",
   "metadata": {},
   "source": [
    "## spinning words"
   ]
  },
  {
   "cell_type": "code",
   "execution_count": 226,
   "id": "5b54bba4",
   "metadata": {},
   "outputs": [
    {
     "data": {
      "text/plain": [
       "'Hey wollef sroirraw'"
      ]
     },
     "execution_count": 226,
     "metadata": {},
     "output_type": "execute_result"
    }
   ],
   "source": [
    "def spin_words(sentence):\n",
    "    lst = sentence.split()\n",
    "    for idx, word in enumerate(lst):\n",
    "        if len(word) >= 5:\n",
    "            lst[idx] = word[::-1]\n",
    "    return \" \".join(lst)\n",
    "\n",
    "\n",
    "\n",
    "spin_words(\"Hey fellow warriors\")"
   ]
  },
  {
   "cell_type": "markdown",
   "id": "a1032558",
   "metadata": {},
   "source": [
    "## phone number"
   ]
  },
  {
   "cell_type": "code",
   "execution_count": 229,
   "id": "e33d12cb",
   "metadata": {},
   "outputs": [
    {
     "data": {
      "text/plain": [
       "'(123) 456-7890'"
      ]
     },
     "execution_count": 229,
     "metadata": {},
     "output_type": "execute_result"
    }
   ],
   "source": [
    "def create_phone_number(n):\n",
    "    return f\"({n[0]}{n[1]}{n[2]}) {n[3]}{n[4]}{n[5]}-{n[6]}{n[7]}{n[8]}{n[9]}\"\n",
    "    \n",
    "    \n",
    "    \n",
    "    \n",
    "create_phone_number([1, 2, 3, 4, 5, 6, 7, 8, 9, 0])"
   ]
  },
  {
   "cell_type": "markdown",
   "id": "1d04ba77",
   "metadata": {},
   "source": [
    "## supermarket que"
   ]
  },
  {
   "cell_type": "code",
   "execution_count": 236,
   "id": "82f8ff39",
   "metadata": {},
   "outputs": [
    {
     "data": {
      "text/plain": [
       "4"
      ]
     },
     "execution_count": 236,
     "metadata": {},
     "output_type": "execute_result"
    }
   ],
   "source": [
    "def queue_time(customers, n):\n",
    "    if customers == []:\n",
    "        return 0\n",
    "    if len(customers) < n:\n",
    "        return max(customers)\n",
    "    \n",
    "    list_temp = [customers[i] for i in range(0, n)]\n",
    "    for item in range(n,len(customers)):\n",
    "        list_temp[list_temp.index(min(list_temp))] += item\n",
    "    return max(list_temp)\n",
    "    \n",
    "#queue_time([5,3,4], 1)\n",
    "# # should return 12\n",
    "# # because when n=1, the total time is just the sum of the times\n",
    "\n",
    "#queue_time([10,2,3,3], 2)\n",
    "# # should return 10\n",
    "# # because here n=2 and the 2nd, 3rd, and 4th people in the \n",
    "# # queue finish before the 1st person has finished.\n",
    "\n",
    "queue_time([2,3,10], 2)\n",
    "# # should return 12"
   ]
  },
  {
   "cell_type": "code",
   "execution_count": 246,
   "id": "fa338caa",
   "metadata": {},
   "outputs": [
    {
     "name": "stdout",
     "output_type": "stream",
     "text": [
      "[0, 0]\n",
      "[2, 0]\n",
      "[2, 3]\n",
      "[12, 3]\n",
      "[12, 8]\n",
      "[12, 12]\n",
      "[24, 12]\n",
      "[24, 18]\n",
      "[24, 26]\n",
      "[25, 26]\n",
      "[37, 26]\n",
      "[37, 35]\n"
     ]
    },
    {
     "data": {
      "text/plain": [
       "37"
      ]
     },
     "execution_count": 246,
     "metadata": {},
     "output_type": "execute_result"
    }
   ],
   "source": [
    "def queue_time(customers, n):\n",
    "    list_temp = [0]*n\n",
    "#    print(list_temp)\n",
    "    for customer in customers:\n",
    "        list_temp[list_temp.index(min(list_temp))] += customer\n",
    "#        print(list_temp)\n",
    "    return max(list_temp)\n",
    "\n",
    "queue_time([2,3,10,5,4,12,6,8,1,12,9], 2)"
   ]
  },
  {
   "cell_type": "code",
   "execution_count": 2,
   "id": "889b90de",
   "metadata": {},
   "outputs": [
    {
     "data": {
      "text/plain": [
       "{'Pennies': 1, 'Nickels': 1, 'Dimes': 0, 'Quarters': 49}"
      ]
     },
     "execution_count": 2,
     "metadata": {},
     "output_type": "execute_result"
    }
   ],
   "source": [
    "def loose_change(cents):\n",
    "    \n",
    "    if cents <= 0:\n",
    "        return {\"Pennies\": 0, \"Nickels\": 0, \"Dimes\": 0, \"Quarters\": 0}\n",
    "    else:\n",
    "        quarters = cents // 25\n",
    "        cents = cents % 25\n",
    "        dimes = cents // 10\n",
    "        cents = cents % 10\n",
    "        nickels = cents // 5\n",
    "        cents = cents % 5\n",
    "        pennies = cents // 1\n",
    "        \n",
    "        return {\"Pennies\": pennies, \"Nickels\": nickels, \"Dimes\": dimes, \"Quarters\": quarters}\n",
    "\n",
    "loose_change(1231)"
   ]
  },
  {
   "cell_type": "markdown",
   "id": "d98b1a53",
   "metadata": {},
   "source": [
    "# Dog inheritance"
   ]
  },
  {
   "cell_type": "code",
   "execution_count": 3,
   "id": "391f589f",
   "metadata": {},
   "outputs": [
    {
     "name": "stdout",
     "output_type": "stream",
     "text": [
      "woof woof\n"
     ]
    }
   ],
   "source": [
    "class Dog:\n",
    "    def bark(self):\n",
    "        print(\"woof woof\")\n",
    "# Do not modify the code above\n",
    "\n",
    "class GermanShepherd(Dog):\n",
    "    pass\n",
    "\n",
    "german_shepherd = GermanShepherd()\n",
    "german_shepherd.bark() "
   ]
  },
  {
   "cell_type": "markdown",
   "id": "c9c8979f",
   "metadata": {},
   "source": [
    "# Dessert inheritance"
   ]
  },
  {
   "cell_type": "code",
   "execution_count": 83,
   "id": "c8fa18bb",
   "metadata": {},
   "outputs": [],
   "source": [
    "class Dessert:\n",
    "    def __init__(self, name, calories):\n",
    "        self.name = name\n",
    "        self.calories = calories\n",
    "\n",
    "    def healthy(self):\n",
    "        if self.calories < 200:\n",
    "            return True\n",
    "        else:\n",
    "            return False\n",
    "\n",
    "    def delicious(self):\n",
    "        return True\n",
    "    \n",
    "    \n",
    "class JellyBean(Dessert):\n",
    "    def __init__(self, name, calories, flavor):\n",
    "        super().__init__(name, calories)\n",
    "        self.flavor = flavor\n",
    "        \n",
    "    def delicious(self):\n",
    "        if self.flavor == \"black licorice\":\n",
    "            return False\n",
    "        else:\n",
    "            return super().delicious()\n",
    "        \n",
    "        \n",
    "        \n",
    "\n",
    "\n",
    "cake = Dessert(\"cake\",199)\n",
    "cake.delicious()\n",
    "\n",
    "\n",
    "fartbean = JellyBean(\"FB\", 5, \"black lcorice\")"
   ]
  },
  {
   "cell_type": "markdown",
   "id": "578d8daf",
   "metadata": {},
   "source": [
    "# JSON CITY"
   ]
  },
  {
   "cell_type": "code",
   "execution_count": 19,
   "id": "81fb2a2d",
   "metadata": {},
   "outputs": [
    {
     "name": "stdout",
     "output_type": "stream",
     "text": [
      "[{'title': 'London', 'location_type': 'City', 'woeid': 44418, 'latt_long': '51.506321,-0.12714'}]\n"
     ]
    },
    {
     "data": {
      "text/plain": [
       "{'City': 'London', 'Lat': 51.506321, 'Lon': -0.12714}"
      ]
     },
     "execution_count": 19,
     "metadata": {},
     "output_type": "execute_result"
    }
   ],
   "source": [
    "import os; os.system(\"pip install requests\")\n",
    "import requests\n",
    "response = requests.get(\"https://www.metaweather.com/api/location/search/?query=london\").json()\n",
    "# Do not modify the code above\n",
    "\n",
    "print(response)\n",
    "\n",
    "\n",
    "def city_info(response):\n",
    "    dic_r = response[0]    \n",
    "    dic = {\n",
    "        \"City\": dic_r[\"title\"],\n",
    "        \"Lat\": float(dic_r[\"latt_long\"][:9]),\n",
    "        \"Lon\": float(dic_r[\"latt_long\"][10:])\n",
    "          }\n",
    "    \n",
    "    return dic\n",
    "\n",
    "\n",
    "city_info(response)"
   ]
  },
  {
   "cell_type": "markdown",
   "id": "e805c0e5",
   "metadata": {},
   "source": [
    "# JSON WEATHER"
   ]
  },
  {
   "cell_type": "code",
   "execution_count": 5,
   "id": "441bedea",
   "metadata": {},
   "outputs": [
    {
     "name": "stdout",
     "output_type": "stream",
     "text": [
      "2021-07-03\n"
     ]
    },
    {
     "data": {
      "text/plain": [
       "'The weather in London tommorow is Light Rain'"
      ]
     },
     "execution_count": 5,
     "metadata": {},
     "output_type": "execute_result"
    }
   ],
   "source": [
    "import os; os.system(\"pip install requests\")\n",
    "import requests\n",
    "response = requests.get(\"https://www.metaweather.com/api/location/44418/\").json()\n",
    "# Do not modify the code above\n",
    "\n",
    "#print(response)\n",
    "#print(len(response[\"consolidated_weather\"]))\n",
    "#print(response[\"title\"])\n",
    "\n",
    "import datetime\n",
    "\n",
    "\n",
    "def weather_forecast(city):\n",
    "    tmr = str(datetime.date.today() + datetime.timedelta(days=1))\n",
    "    print(tmr)\n",
    "    \n",
    "    for i in response[\"consolidated_weather\"]:\n",
    "        if i[\"applicable_date\"] == tmr:\n",
    "            forecast = i[\"weather_state_name\"]\n",
    "            break\n",
    "    \n",
    "    \n",
    "    city = response[\"title\"]\n",
    "    \n",
    "    return f\"The weather in {city} tommorow is {forecast}\"\n",
    "\n",
    "\n",
    "weather_forecast(\"London\")"
   ]
  },
  {
   "cell_type": "code",
   "execution_count": null,
   "id": "258ae2b4",
   "metadata": {},
   "outputs": [],
   "source": []
  }
 ],
 "metadata": {
  "kernelspec": {
   "display_name": "Python 3",
   "language": "python",
   "name": "python3"
  },
  "language_info": {
   "codemirror_mode": {
    "name": "ipython",
    "version": 3
   },
   "file_extension": ".py",
   "mimetype": "text/x-python",
   "name": "python",
   "nbconvert_exporter": "python",
   "pygments_lexer": "ipython3",
   "version": "3.8.6"
  },
  "toc": {
   "base_numbering": 1,
   "nav_menu": {},
   "number_sections": true,
   "sideBar": true,
   "skip_h1_title": false,
   "title_cell": "Table of Contents",
   "title_sidebar": "Contents",
   "toc_cell": false,
   "toc_position": {},
   "toc_section_display": true,
   "toc_window_display": false
  }
 },
 "nbformat": 4,
 "nbformat_minor": 5
}
