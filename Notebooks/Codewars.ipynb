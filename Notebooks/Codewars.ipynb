{
 "cells": [
  {
   "cell_type": "markdown",
   "id": "f2ccddd4",
   "metadata": {},
   "source": [
    "# Nesting Structure Comparison"
   ]
  },
  {
   "cell_type": "code",
   "execution_count": 8,
   "id": "d40d5525",
   "metadata": {},
   "outputs": [],
   "source": [
    "def same_structure_as(original,other):\n",
    "    if isinstance(original, list) and isinstance(other, list) and len(original) == len(other):\n",
    "        for o1, o2 in zip(original, other):\n",
    "            if not same_structure_as(o1, o2): return False\n",
    "        else: return True\n",
    "    else: return not isinstance(original, list) and not isinstance(other, list)"
   ]
  },
  {
   "cell_type": "code",
   "execution_count": 10,
   "id": "b3714557",
   "metadata": {},
   "outputs": [
    {
     "data": {
      "text/plain": [
       "False"
      ]
     },
     "execution_count": 10,
     "metadata": {},
     "output_type": "execute_result"
    }
   ],
   "source": [
    "same_structure_as([ 1, [ 1, 1 ] ], [ [ 2, 2 ], 2 ] )"
   ]
  },
  {
   "cell_type": "code",
   "execution_count": null,
   "id": "88ce5c5c",
   "metadata": {},
   "outputs": [],
   "source": [
    "# should return True\n",
    "same_structure_as([ 1, 1, 1 ], [ 2, 2, 2 ] )\n",
    "same_structure_as([ 1, [ 1, 1 ] ], [ 2, [ 2, 2 ] ] )\n",
    "\n",
    "# should return False \n",
    "same_structure_as([ 1, [ 1, 1 ] ], [ [ 2, 2 ], 2 ] )\n",
    "same_structure_as([ 1, [ 1, 1 ] ], [ [ 2 ], 2 ] )\n",
    "\n",
    "# should return True\n",
    "same_structure_as([ [ [ ], [ ] ] ], [ [ [ ], [ ] ] ] )\n",
    "\n",
    "# should return False\n",
    "same_structure_as([ [ [ ], [ ] ] ], [ [ 1, 1 ] ] )"
   ]
  }
 ],
 "metadata": {
  "kernelspec": {
   "display_name": "Python 3",
   "language": "python",
   "name": "python3"
  },
  "language_info": {
   "codemirror_mode": {
    "name": "ipython",
    "version": 3
   },
   "file_extension": ".py",
   "mimetype": "text/x-python",
   "name": "python",
   "nbconvert_exporter": "python",
   "pygments_lexer": "ipython3",
   "version": "3.8.6"
  },
  "toc": {
   "base_numbering": 1,
   "nav_menu": {},
   "number_sections": true,
   "sideBar": true,
   "skip_h1_title": false,
   "title_cell": "Table of Contents",
   "title_sidebar": "Contents",
   "toc_cell": false,
   "toc_position": {},
   "toc_section_display": true,
   "toc_window_display": false
  }
 },
 "nbformat": 4,
 "nbformat_minor": 5
}
